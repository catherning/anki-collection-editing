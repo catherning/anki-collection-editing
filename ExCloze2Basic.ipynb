{
 "cells": [
  {
   "cell_type": "code",
   "execution_count": 1,
   "metadata": {},
   "outputs": [
    {
     "ename": "ImportError",
     "evalue": "cannot import name 'ChangeNotetypeRequest' from 'anki.models' (f:\\Applications\\anaconda3\\envs\\anki-collection-editing\\lib\\site-packages\\anki\\models.py)",
     "output_type": "error",
     "traceback": [
      "\u001b[1;31m---------------------------------------------------------------------------\u001b[0m",
      "\u001b[1;31mImportError\u001b[0m                               Traceback (most recent call last)",
      "Cell \u001b[1;32mIn[1], line 10\u001b[0m\n\u001b[0;32m      7\u001b[0m path\u001b[38;5;241m.\u001b[39minsert(\u001b[38;5;241m0\u001b[39m,\u001b[38;5;124m\"\u001b[39m\u001b[38;5;124mF:\u001b[39m\u001b[38;5;130;01m\\\\\u001b[39;00m\u001b[38;5;124muser\u001b[39m\u001b[38;5;130;01m\\\\\u001b[39;00m\u001b[38;5;124mDocuments\u001b[39m\u001b[38;5;130;01m\\\\\u001b[39;00m\u001b[38;5;124mProjects\u001b[39m\u001b[38;5;130;01m\\\\\u001b[39;00m\u001b[38;5;124manki-collection-editing\u001b[39m\u001b[38;5;130;01m\\\\\u001b[39;00m\u001b[38;5;124manki\u001b[39m\u001b[38;5;130;01m\\\\\u001b[39;00m\u001b[38;5;124mpylib\u001b[39m\u001b[38;5;130;01m\\\\\u001b[39;00m\u001b[38;5;124manki\u001b[39m\u001b[38;5;124m\"\u001b[39m)\n\u001b[0;32m      9\u001b[0m \u001b[38;5;28;01mfrom\u001b[39;00m \u001b[38;5;21;01manki\u001b[39;00m\u001b[38;5;21;01m.\u001b[39;00m\u001b[38;5;21;01mcollection\u001b[39;00m \u001b[38;5;28;01mimport\u001b[39;00m Collection\n\u001b[1;32m---> 10\u001b[0m \u001b[38;5;28;01mfrom\u001b[39;00m \u001b[38;5;21;01manki\u001b[39;00m\u001b[38;5;21;01m.\u001b[39;00m\u001b[38;5;21;01mmodels\u001b[39;00m \u001b[38;5;28;01mimport\u001b[39;00m ChangeNotetypeRequest\n\u001b[0;32m     12\u001b[0m col \u001b[38;5;241m=\u001b[39m Collection(\u001b[38;5;124m\"\u001b[39m\u001b[38;5;124mC:\u001b[39m\u001b[38;5;130;01m\\\\\u001b[39;00m\u001b[38;5;124mUsers\u001b[39m\u001b[38;5;130;01m\\\\\u001b[39;00m\u001b[38;5;124mTEMP.PKAPRIME.000.001\u001b[39m\u001b[38;5;130;01m\\\\\u001b[39;00m\u001b[38;5;124mAppData\u001b[39m\u001b[38;5;130;01m\\\\\u001b[39;00m\u001b[38;5;124mRoaming\u001b[39m\u001b[38;5;130;01m\\\\\u001b[39;00m\u001b[38;5;124mAnki2\u001b[39m\u001b[38;5;130;01m\\\\\u001b[39;00m\u001b[38;5;124mtest\u001b[39m\u001b[38;5;130;01m\\\\\u001b[39;00m\u001b[38;5;124mcollectionUser1.anki2\u001b[39m\u001b[38;5;124m\"\u001b[39m)\n",
      "\u001b[1;31mImportError\u001b[0m: cannot import name 'ChangeNotetypeRequest' from 'anki.models' (f:\\Applications\\anaconda3\\envs\\anki-collection-editing\\lib\\site-packages\\anki\\models.py)"
     ]
    }
   ],
   "source": [
    "from anki_utils import COL_PATH\n",
    "\n",
    "# from ankipandas import Collection, set_debug_log_level\n",
    "# set_debug_log_level()\n",
    "\n",
    "from sys import path\n",
    "path.insert(0,\"F:\\\\user\\\\Documents\\\\Projects\\\\anki-collection-editing\\\\anki\\\\pylib\\\\anki\")\n",
    "\n",
    "from anki.collection import Collection\n",
    "from anki.models import ChangeNotetypeRequest\n",
    "\n",
    "col = Collection(\"C:\\\\Users\\\\TEMP.PKAPRIME.000.001\\\\AppData\\\\Roaming\\\\Anki2\\\\test\\\\collectionUser1.anki2\")"
   ]
  },
  {
   "cell_type": "code",
   "execution_count": 36,
   "metadata": {},
   "outputs": [
    {
     "name": "stdout",
     "output_type": "stream",
     "text": [
      "49 248\n",
      "{{c2::Maurice Garin::who?}} won the {{c1::1903::year}} Tour de France\n",
      "{{c2::Chris Froome::who?}} won the {{c1::2013::year}} Tour de France\n",
      "{{c2::Gustave Garrigou::who?}} won the {{c1::1911::year}} Tour de France\n",
      "{{c2::Odile Defraye::who?}} won the {{c1::1912::year}} Tour de France\n",
      "{{c1::Octave Lapize::who?}} won the {{c2::1910::year}} Tour de France\n",
      "{{c1::Bjarne Riis::who?}} won the {{c2::1996::year}} Tour de France\n",
      "{{c1::Felice Gimondi::who?}} won the {{c2::1965::year}} Tour de France\n",
      "{{c2::François Faber::who?}} won the {{c1::1909::year}} Tour de France\n",
      "{{c1::Bradley Wiggins::who?}} won the {{c2::2012::year}} Tour de France\n",
      "{{c1::Hugo Koblet::who?}} won the {{c2::1951::year}} Tour de France\n",
      "{{c2::Maurice De Waele::who?}} won the {{c1::1929::year}} Tour de France\n",
      "{{c2::Roger Pingeon::who?}} won the {{c1::1967::year}} Tour de France\n",
      "{{c2::Vincenzo Nibali::who?}} won the {{c1::2014::year}} Tour de France\n",
      "{{c2::Ferdinand Kübler::who?}} won the {{c1::1950::year}} Tour de France\n",
      "{{c2::Henri Pélissier::who?}} won the {{c1::1923::year}} Tour de France\n",
      "{{c2::Andy Schleck::who?}} won the {{c1::2010::year}} Tour de France\n",
      "{{c2::Marco Pantani::who?}} won the {{c1::1998::year}} Tour de France\n",
      "{{c1::Pedro Delgado::who?}} won the {{c2::1988::year}} Tour de France\n",
      "{{c1::Roger Walkowiak::who?}} won the {{c2::1956::year}} Tour de France\n",
      "{{c2::Jean Robic::who?}} won the {{c1::1947::year}} Tour de France\n",
      "{{c1::Stephen Roche::who?}} won the {{c2::1987::year}} Tour de France\n",
      "{{c2::Léon Scieur::who?}} won the {{c1::1921::year}} Tour de France\n",
      "{{c1::Carlos Sastre::who?}} won the {{c2::2008::year}} Tour de France\n",
      "{{c1::Charly Gaul::who?}} won the {{c2::1958::year}} Tour de France\n",
      "{{c1::Louis Trousselier::who?}} won the {{c2::1905::year}} Tour de France\n",
      "{{c2::Roger&nbsp;Lapébie::who?}} won the {{c1::1937::year}} Tour de France\n",
      "{{c2::René Pottier::who?}} won the {{c1::1906::year}} Tour de France\n",
      "{{c1::Luis Ocaña::who?}} won the {{c2::1973::year}} Tour de France\n",
      "{{c2::Óscar Pereiro::who?}} won the {{c1::2006::year}} Tour de France\n",
      "{{c1::Cadel Evans::who?}} won the {{c2::2011::year}} Tour de France\n",
      "{{c1::Lucien Buysse::who?}} won the {{c2::1926::year}} Tour de France\n",
      "{{c2::Federico Bahamontes::who?}} won the {{c1::1959::year}} Tour de France\n",
      "{{c2::Joop Zoetemelk::who?}} won the {{c1::1980::year}} Tour de France\n",
      "{{c2::Lucien Van Impe::who?}} won the {{c1::1976::year}} Tour de France\n",
      "{{c1::Romain Maes::who?}} won the {{c2::1935::year}} Tour de France\n",
      "{{c1::Jan Janssen::who?}} won the {{c2::1968::year}} Tour de France\n",
      "{{c1::Henri Cornet::who?}} won the {{c2::1904::year}} Tour de France\n",
      "{{c2::Lucien Aimar::who?}} won the {{c1::1966::year}} Tour de France\n",
      "{{c2::Gastone Nencini::who?}} won the {{c1::1960::year}} Tour de France\n",
      "{{c2::Jan Ullrich::who?}} won the {{c1::1997::year}} Tour de France\n",
      "{{c2::Georges Speicher::who?}} won the {{c1::1933::year}} Tour de France\n"
     ]
    }
   ],
   "source": [
    "notesID = col.find_notes(\"year}} Tour de France\")\n",
    "notesID2 = col.find_notes(\"won the\")\n",
    "notesID3 = col.find_notes(\"note:Cloze\")\n",
    "notesID = set(notesID2).intersection(set(notesID)).intersection(set(notesID3))\n",
    "\n",
    "\n",
    "for i in notesID:\n",
    "    note = col.getNote(i)\n",
    "    print(note.fields[0])\n",
    "\n",
    "# input = ChangeNotetypeRequest()\n",
    "# input.ParseFromString(col.models.change_notetype_info(old_notetype_id: NotetypeId, new_notetype_id: NotetypeId))\n",
    "# input.note_ids.extend(list(notesID))\n",
    "\n",
    "    \n",
    "# change_notetype_of_notes(input)"
   ]
  },
  {
   "cell_type": "code",
   "execution_count": 60,
   "metadata": {},
   "outputs": [],
   "source": [
    "newType = col.models.new(\"Tour de France\")\n",
    "# model = col.models.get(newType)"
   ]
  },
  {
   "cell_type": "code",
   "execution_count": 74,
   "metadata": {},
   "outputs": [
    {
     "ename": "StringError",
     "evalue": "JSONError { info: \"invalid type: string \\\"Winner\\\", expected struct NoteFieldSchema11 at line 1 column 102\" }",
     "output_type": "error",
     "traceback": [
      "\u001b[1;31m---------------------------------------------------------------------------\u001b[0m",
      "\u001b[1;31mStringError\u001b[0m                               Traceback (most recent call last)",
      "Cell \u001b[1;32mIn[74], line 3\u001b[0m\n\u001b[0;32m      1\u001b[0m col\u001b[38;5;241m.\u001b[39mmodels\u001b[38;5;241m.\u001b[39madd_field(newType,col\u001b[38;5;241m.\u001b[39mmodels\u001b[38;5;241m.\u001b[39mnewField(\u001b[38;5;124m\"\u001b[39m\u001b[38;5;124mWinner\u001b[39m\u001b[38;5;124m\"\u001b[39m))\n\u001b[0;32m      2\u001b[0m col\u001b[38;5;241m.\u001b[39mmodels\u001b[38;5;241m.\u001b[39madd_field(newType,col\u001b[38;5;241m.\u001b[39mmodels\u001b[38;5;241m.\u001b[39mnewField(\u001b[38;5;124m\"\u001b[39m\u001b[38;5;124mYear\u001b[39m\u001b[38;5;124m\"\u001b[39m))\n\u001b[1;32m----> 3\u001b[0m \u001b[43mcol\u001b[49m\u001b[38;5;241;43m.\u001b[39;49m\u001b[43mmodels\u001b[49m\u001b[38;5;241;43m.\u001b[39;49m\u001b[43msave\u001b[49m\u001b[43m(\u001b[49m\u001b[43mnewType\u001b[49m\u001b[43m)\u001b[49m\n",
      "File \u001b[1;32mf:\\Applications\\anaconda3\\envs\\anki-collection-editing\\lib\\site-packages\\anki\\models.py:93\u001b[0m, in \u001b[0;36mModelManager.save\u001b[1;34m(self, m, templates, updateReqs)\u001b[0m\n\u001b[0;32m     90\u001b[0m     \u001b[39mprint\u001b[39m(\u001b[39m\"\u001b[39m\u001b[39mcol.models.save() should be passed the changed notetype\u001b[39m\u001b[39m\"\u001b[39m)\n\u001b[0;32m     91\u001b[0m     \u001b[39mreturn\u001b[39;00m\n\u001b[1;32m---> 93\u001b[0m \u001b[39mself\u001b[39;49m\u001b[39m.\u001b[39;49mupdate(m, preserve_usn\u001b[39m=\u001b[39;49m\u001b[39mFalse\u001b[39;49;00m)\n",
      "File \u001b[1;32mf:\\Applications\\anaconda3\\envs\\anki-collection-editing\\lib\\site-packages\\anki\\models.py:237\u001b[0m, in \u001b[0;36mModelManager.update\u001b[1;34m(self, m, preserve_usn)\u001b[0m\n\u001b[0;32m    235\u001b[0m \u001b[39mself\u001b[39m\u001b[39m.\u001b[39m_remove_from_cache(m[\u001b[39m\"\u001b[39m\u001b[39mid\u001b[39m\u001b[39m\"\u001b[39m])\n\u001b[0;32m    236\u001b[0m \u001b[39mself\u001b[39m\u001b[39m.\u001b[39mensureNameUnique(m)\n\u001b[1;32m--> 237\u001b[0m m[\u001b[39m\"\u001b[39m\u001b[39mid\u001b[39m\u001b[39m\"\u001b[39m] \u001b[39m=\u001b[39m \u001b[39mself\u001b[39;49m\u001b[39m.\u001b[39;49mcol\u001b[39m.\u001b[39;49mbackend\u001b[39m.\u001b[39;49madd_or_update_notetype(\n\u001b[0;32m    238\u001b[0m     json\u001b[39m=\u001b[39;49mto_json_bytes(m), preserve_usn_and_mtime\u001b[39m=\u001b[39;49mpreserve_usn\n\u001b[0;32m    239\u001b[0m )\n\u001b[0;32m    240\u001b[0m \u001b[39mself\u001b[39m\u001b[39m.\u001b[39msetCurrent(m)\n\u001b[0;32m    241\u001b[0m \u001b[39mself\u001b[39m\u001b[39m.\u001b[39m_mutate_after_write(m)\n",
      "File \u001b[1;32mf:\\Applications\\anaconda3\\envs\\anki-collection-editing\\lib\\site-packages\\anki\\rsbackend_gen.py:422\u001b[0m, in \u001b[0;36mRustBackendGenerated.add_or_update_notetype\u001b[1;34m(self, json, preserve_usn_and_mtime)\u001b[0m\n\u001b[0;32m    420\u001b[0m \u001b[39minput\u001b[39m \u001b[39m=\u001b[39m pb\u001b[39m.\u001b[39mAddOrUpdateNotetypeIn(json\u001b[39m=\u001b[39mjson, preserve_usn_and_mtime\u001b[39m=\u001b[39mpreserve_usn_and_mtime)\n\u001b[0;32m    421\u001b[0m output \u001b[39m=\u001b[39m pb\u001b[39m.\u001b[39mNoteTypeID()\n\u001b[1;32m--> 422\u001b[0m output\u001b[39m.\u001b[39mParseFromString(\u001b[39mself\u001b[39;49m\u001b[39m.\u001b[39;49m_run_command(\u001b[39m68\u001b[39;49m, \u001b[39minput\u001b[39;49m))\n\u001b[0;32m    423\u001b[0m \u001b[39mreturn\u001b[39;00m output\u001b[39m.\u001b[39mntid\n",
      "File \u001b[1;32mf:\\Applications\\anaconda3\\envs\\anki-collection-editing\\lib\\site-packages\\anki\\rsbackend.py:256\u001b[0m, in \u001b[0;36mRustBackend._run_command\u001b[1;34m(self, method, input)\u001b[0m\n\u001b[0;32m    254\u001b[0m err \u001b[39m=\u001b[39m pb\u001b[39m.\u001b[39mBackendError()\n\u001b[0;32m    255\u001b[0m err\u001b[39m.\u001b[39mParseFromString(err_bytes)\n\u001b[1;32m--> 256\u001b[0m \u001b[39mraise\u001b[39;00m proto_exception_to_native(err)\n",
      "\u001b[1;31mStringError\u001b[0m: JSONError { info: \"invalid type: string \\\"Winner\\\", expected struct NoteFieldSchema11 at line 1 column 102\" }"
     ]
    }
   ],
   "source": [
    "col.models.add_field(newType,col.models.newField(\"Winner\"))\n",
    "col.models.add_field(newType,col.models.newField(\"Year\"))\n",
    "col.models.add_field(newType,)\n",
    "col.models.save(newType)"
   ]
  },
  {
   "cell_type": "code",
   "execution_count": 77,
   "metadata": {},
   "outputs": [
    {
     "data": {
      "text/plain": [
       "dict"
      ]
     },
     "execution_count": 77,
     "metadata": {},
     "output_type": "execute_result"
    }
   ],
   "source": [
    "type(col.models.new_field(\"Winner\"))"
   ]
  },
  {
   "cell_type": "code",
   "execution_count": 72,
   "metadata": {},
   "outputs": [
    {
     "data": {
      "text/plain": [
       "{'id': 1571155475675,\n",
       " 'name': 'Wine monopoles',\n",
       " 'type': 0,\n",
       " 'mod': 1593249262,\n",
       " 'usn': 0,\n",
       " 'sortf': 0,\n",
       " 'did': 1,\n",
       " 'tmpls': [{'name': 'Carte 1',\n",
       "   'ord': 0,\n",
       "   'qfmt': 'Le monopole {{Monopole}} produit par {{Producteur}} est localisé où ?',\n",
       "   'afmt': '{{FrontSide}}\\n\\n<hr id=answer>\\n\\n{{Localisation}}',\n",
       "   'bqfmt': '',\n",
       "   'bafmt': '',\n",
       "   'did': None,\n",
       "   'bfont': '',\n",
       "   'bsize': 0},\n",
       "  {'name': 'Carte 2',\n",
       "   'ord': 1,\n",
       "   'qfmt': 'Le monopole {{Monopole}} localisé en {{Localisation}} est produit par?',\n",
       "   'afmt': '{{FrontSide}}\\n\\n<hr id=answer>\\n\\n{{Producteur}} ',\n",
       "   'bqfmt': '',\n",
       "   'bafmt': '',\n",
       "   'did': None,\n",
       "   'bfont': '',\n",
       "   'bsize': 0},\n",
       "  {'name': 'Carte 3',\n",
       "   'ord': 2,\n",
       "   'qfmt': 'Le monopole localisé en {{Localisation}} et produit par {{Producteur}} est nommé ?',\n",
       "   'afmt': '{{FrontSide}}\\n\\n<hr id=answer>\\n\\n{{Monopole}} ',\n",
       "   'bqfmt': '',\n",
       "   'bafmt': '',\n",
       "   'did': None,\n",
       "   'bfont': '',\n",
       "   'bsize': 0}],\n",
       " 'flds': [{'name': 'Monopole',\n",
       "   'ord': 0,\n",
       "   'sticky': False,\n",
       "   'rtl': False,\n",
       "   'font': 'Arial',\n",
       "   'size': 20,\n",
       "   'description': '',\n",
       "   'media': []},\n",
       "  {'name': 'Localisation',\n",
       "   'ord': 1,\n",
       "   'sticky': False,\n",
       "   'rtl': False,\n",
       "   'font': 'Arial',\n",
       "   'size': 20,\n",
       "   'description': '',\n",
       "   'media': []},\n",
       "  {'name': 'Producteur',\n",
       "   'ord': 2,\n",
       "   'sticky': False,\n",
       "   'rtl': False,\n",
       "   'font': 'Arial',\n",
       "   'size': 20,\n",
       "   'description': '',\n",
       "   'media': []}],\n",
       " 'css': '.card {\\n font-family: arial;\\n font-size: 20px;\\n text-align: center;\\n color: black;\\n background-color: white;\\n}\\n',\n",
       " 'latexPre': '\\\\documentclass[12pt]{article}\\n\\\\special{papersize=3in,5in}\\n\\\\usepackage[utf8]{inputenc}\\n\\\\usepackage{amssymb,amsmath}\\n\\\\pagestyle{empty}\\n\\\\setlength{\\\\parindent}{0in}\\n\\\\begin{document}\\n',\n",
       " 'latexPost': '\\\\end{document}',\n",
       " 'latexsvg': False,\n",
       " 'req': [[0, 'any', [0, 2]], [1, 'any', [0, 1]], [2, 'any', [1, 2]]],\n",
       " 'vers': [],\n",
       " 'tags': []}"
      ]
     },
     "execution_count": 72,
     "metadata": {},
     "output_type": "execute_result"
    }
   ],
   "source": [
    "col.models.get(1571155475675)"
   ]
  },
  {
   "cell_type": "code",
   "execution_count": 71,
   "metadata": {},
   "outputs": [
    {
     "data": {
      "text/plain": [
       "{'id': 0,\n",
       " 'name': 'Tour de France',\n",
       " 'type': 0,\n",
       " 'mod': 0,\n",
       " 'usn': 0,\n",
       " 'sortf': 0,\n",
       " 'did': 1,\n",
       " 'tmpls': [],\n",
       " 'flds': ['Winner', 'Year', 'Extra'],\n",
       " 'css': '.card {\\n  font-family: arial;\\n  font-size: 20px;\\n  text-align: center;\\n  color: black;\\n  background-color: white;\\n}\\n',\n",
       " 'latexPre': '\\\\documentclass[12pt]{article}\\n\\\\special{papersize=3in,5in}\\n\\\\usepackage[utf8]{inputenc}\\n\\\\usepackage{amssymb,amsmath}\\n\\\\pagestyle{empty}\\n\\\\setlength{\\\\parindent}{0in}\\n\\\\begin{document}\\n',\n",
       " 'latexPost': '\\\\end{document}',\n",
       " 'latexsvg': False,\n",
       " 'req': [[0, 'any', [0]]]}"
      ]
     },
     "execution_count": 71,
     "metadata": {},
     "output_type": "execute_result"
    }
   ],
   "source": [
    "newType"
   ]
  },
  {
   "cell_type": "code",
   "execution_count": 65,
   "metadata": {},
   "outputs": [
    {
     "ename": "TypeError",
     "evalue": "'int' object is not subscriptable",
     "output_type": "error",
     "traceback": [
      "\u001b[1;31m---------------------------------------------------------------------------\u001b[0m",
      "\u001b[1;31mTypeError\u001b[0m                                 Traceback (most recent call last)",
      "Cell \u001b[1;32mIn[65], line 1\u001b[0m\n\u001b[1;32m----> 1\u001b[0m \u001b[43mcol\u001b[49m\u001b[38;5;241;43m.\u001b[39;49m\u001b[43mmodels\u001b[49m\u001b[38;5;241;43m.\u001b[39;49m\u001b[43m_changeNotes\u001b[49m\u001b[43m(\u001b[49m\u001b[43mnotesID\u001b[49m\u001b[43m,\u001b[49m\u001b[38;5;241;43m0\u001b[39;49m\u001b[43m,\u001b[49m\u001b[43m{\u001b[49m\u001b[38;5;241;43m1\u001b[39;49m\u001b[43m:\u001b[49m\u001b[38;5;124;43m\"\u001b[39;49m\u001b[38;5;124;43mYear\u001b[39;49m\u001b[38;5;124;43m\"\u001b[39;49m\u001b[43m}\u001b[49m\u001b[43m)\u001b[49m\n",
      "File \u001b[1;32mf:\\Applications\\anaconda3\\envs\\anki-collection-editing\\lib\\site-packages\\anki\\models.py:436\u001b[0m, in \u001b[0;36mModelManager._changeNotes\u001b[1;34m(self, nids, newModel, map)\u001b[0m\n\u001b[0;32m    432\u001b[0m \u001b[39mdef\u001b[39;00m \u001b[39m_changeNotes\u001b[39m(\n\u001b[0;32m    433\u001b[0m     \u001b[39mself\u001b[39m, nids: List[\u001b[39mint\u001b[39m], newModel: NoteType, \u001b[39mmap\u001b[39m: Dict[\u001b[39mint\u001b[39m, Union[\u001b[39mNone\u001b[39;00m, \u001b[39mint\u001b[39m]]\n\u001b[0;32m    434\u001b[0m ) \u001b[39m-\u001b[39m\u001b[39m>\u001b[39m \u001b[39mNone\u001b[39;00m:\n\u001b[0;32m    435\u001b[0m     d \u001b[39m=\u001b[39m []\n\u001b[1;32m--> 436\u001b[0m     nfields \u001b[39m=\u001b[39m \u001b[39mlen\u001b[39m(newModel[\u001b[39m\"\u001b[39;49m\u001b[39mflds\u001b[39;49m\u001b[39m\"\u001b[39;49m])\n\u001b[0;32m    437\u001b[0m     \u001b[39mfor\u001b[39;00m (nid, flds) \u001b[39min\u001b[39;00m \u001b[39mself\u001b[39m\u001b[39m.\u001b[39mcol\u001b[39m.\u001b[39mdb\u001b[39m.\u001b[39mexecute(\n\u001b[0;32m    438\u001b[0m         \u001b[39m\"\u001b[39m\u001b[39mselect id, flds from notes where id in \u001b[39m\u001b[39m\"\u001b[39m \u001b[39m+\u001b[39m ids2str(nids)\n\u001b[0;32m    439\u001b[0m     ):\n\u001b[0;32m    440\u001b[0m         newflds \u001b[39m=\u001b[39m {}\n",
      "\u001b[1;31mTypeError\u001b[0m: 'int' object is not subscriptable"
     ]
    }
   ],
   "source": [
    "map =     def field_map(self, notetype: NotetypeDict) -> dict[str, tuple[int, FieldDict]]:\n",
    "        \"Mapping of field name -> (ord, field).\"\n",
    "        return {f[\"name\"]: (f[\"ord\"], f) for f in notetype[\"flds\"]}\n",
    "col.models._changeNotes(notesID,0,{1:\"Year\"})"
   ]
  },
  {
   "cell_type": "code",
   "execution_count": null,
   "metadata": {},
   "outputs": [],
   "source": [
    "selection = notes.loc[notes[\"nmodel\"]=='Tour de France winners'].copy()\n",
    "selection.fields_as_columns(inplace=True)\n",
    "selection[\"nfld_Year\"] = selection[\"nfld_Winner\"].str.extract(r'(\\d{4})')\n",
    "selection[\"nfld_Winner\"] = selection[\"nfld_Winner\"].str.extract(r'{{c\\d::(\\D+)::who\\?}}')\n",
    "selection[[\"nfld_Year\",\"nfld_Winner\"]]"
   ]
  },
  {
   "cell_type": "code",
   "execution_count": null,
   "metadata": {},
   "outputs": [],
   "source": [
    "col.notes.update(selection.fields_as_list())\n",
    "col.write(modify=True)"
   ]
  },
  {
   "cell_type": "code",
   "execution_count": null,
   "metadata": {},
   "outputs": [],
   "source": []
  }
 ],
 "metadata": {
  "kernelspec": {
   "display_name": "Python 3.9.16 64-bit ('anki-collection-editing': conda)",
   "language": "python",
   "name": "python3"
  },
  "language_info": {
   "codemirror_mode": {
    "name": "ipython",
    "version": 3
   },
   "file_extension": ".py",
   "mimetype": "text/x-python",
   "name": "python",
   "nbconvert_exporter": "python",
   "pygments_lexer": "ipython3",
   "version": "3.9.16"
  },
  "orig_nbformat": 4,
  "vscode": {
   "interpreter": {
    "hash": "77b19daa5e4051e815d4e8544c647e993264a1a1663eaae78a2ec95fe80919f7"
   }
  }
 },
 "nbformat": 4,
 "nbformat_minor": 2
}
