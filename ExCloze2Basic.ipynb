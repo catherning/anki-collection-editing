{
 "cells": [
  {
   "cell_type": "code",
   "execution_count": 1,
   "metadata": {},
   "outputs": [],
   "source": [
    "from anki_utils import COL_PATH\n",
    "\n",
    "# from sys import path\n",
    "\n",
    "from anki.collection import Collection\n",
    "\n",
    "col = Collection(COL_PATH+\"collectionUser1.anki2\")"
   ]
  },
  {
   "cell_type": "code",
   "execution_count": 2,
   "metadata": {},
   "outputs": [
    {
     "name": "stdout",
     "output_type": "stream",
     "text": [
      "1421618492164\n",
      "{{c2::Odile Defraye::who?}} won the {{c1::1912::year}} Tour de France\n",
      "1421618501652\n",
      "{{c2::François Faber::who?}} won the {{c1::1909::year}} Tour de France\n",
      "1421618414612\n",
      "{{c1::Felice Gimondi::who?}} won the {{c2::1965::year}} Tour de France\n",
      "1421618617498\n",
      "{{c1::Bradley Wiggins::who?}} won the {{c2::2012::year}} Tour de France\n",
      "1421618443547\n",
      "{{c1::Hugo Koblet::who?}} won the {{c2::1951::year}} Tour de France\n",
      "1421618245661\n",
      "{{c2::Roger Pingeon::who?}} won the {{c1::1967::year}} Tour de France\n",
      "1421618600242\n",
      "{{c2::Andy Schleck::who?}} won the {{c1::2010::year}} Tour de France\n",
      "1421618386229\n",
      "{{c1::Roger Walkowiak::who?}} won the {{c2::1956::year}} Tour de France\n",
      "1421618213566\n",
      "{{c2::Léon Scieur::who?}} won the {{c1::1921::year}} Tour de France\n",
      "1421618592195\n",
      "{{c1::Carlos Sastre::who?}} won the {{c2::2008::year}} Tour de France\n",
      "1421618372932\n",
      "{{c1::Charly Gaul::who?}} won the {{c2::1958::year}} Tour de France\n",
      "1421618533963\n",
      "{{c1::Louis Trousselier::who?}} won the {{c2::1905::year}} Tour de France\n",
      "1421618544851\n",
      "{{c2::René Pottier::who?}} won the {{c1::1906::year}} Tour de France\n",
      "1421618278100\n",
      "{{c1::Luis Ocaña::who?}} won the {{c2::1973::year}} Tour de France\n",
      "1421618556243\n",
      "{{c2::Óscar Pereiro::who?}} won the {{c1::2006::year}} Tour de France\n",
      "1421618161498\n",
      "{{c1::Lucien Buysse::who?}} won the {{c2::1926::year}} Tour de France\n",
      "1421618202469\n",
      "{{c1::Romain Maes::who?}} won the {{c2::1935::year}} Tour de France\n",
      "1421618404220\n",
      "{{c2::Gastone Nencini::who?}} won the {{c1::1960::year}} Tour de France\n",
      "1421618363645\n",
      "{{c2::Jan Ullrich::who?}} won the {{c1::1997::year}} Tour de France\n",
      "1421618194046\n",
      "{{c2::Georges Speicher::who?}} won the {{c1::1933::year}} Tour de France\n"
     ]
    }
   ],
   "source": [
    "# Get the notes to edit\n",
    "notesID = col.find_notes(\"year}} Tour de France\")\n",
    "notesID2 = col.find_notes(\"won the\")\n",
    "notesID3 = col.find_notes(\"note:Cloze\")\n",
    "notesID = set(notesID2).intersection(set(notesID)).intersection(set(notesID3))\n",
    "\n",
    "modelID = notesID[0].mid\n",
    "\n",
    "for i in notesID:\n",
    "    print(i)\n",
    "    note = col.getNote(i)\n",
    "    print(note.fields[0])\n"
   ]
  },
  {
   "cell_type": "code",
   "execution_count": null,
   "metadata": {},
   "outputs": [],
   "source": [
    "# Create new note type\n",
    "models = col.models\n",
    "newNote = models.new(\"Tour de France\")\n",
    "\n",
    "new_fields = [\"Tour de France Winner\",\"Year\",\"Extra\"]\n",
    "\n",
    "for field in new_fields:\n",
    "    fieldDict = models.new_field(field)\n",
    "    models.add_field(newNote, fieldDict)\n",
    "\n",
    "models.save(newNote)"
   ]
  },
  {
   "cell_type": "code",
   "execution_count": null,
   "metadata": {},
   "outputs": [],
   "source": [
    "# Change the note type\n",
    "models.change( modelID, notesID, newNote\n",
    "        fmap: dict[int, int | None],\n",
    "        cmap: dict[int, int | None] | None,\n",
    "    )"
   ]
  },
  {
   "cell_type": "code",
   "execution_count": 72,
   "metadata": {},
   "outputs": [
    {
     "data": {
      "text/plain": [
       "{'id': 1571155475675,\n",
       " 'name': 'Wine monopoles',\n",
       " 'type': 0,\n",
       " 'mod': 1593249262,\n",
       " 'usn': 0,\n",
       " 'sortf': 0,\n",
       " 'did': 1,\n",
       " 'tmpls': [{'name': 'Carte 1',\n",
       "   'ord': 0,\n",
       "   'qfmt': 'Le monopole {{Monopole}} produit par {{Producteur}} est localisé où ?',\n",
       "   'afmt': '{{FrontSide}}\\n\\n<hr id=answer>\\n\\n{{Localisation}}',\n",
       "   'bqfmt': '',\n",
       "   'bafmt': '',\n",
       "   'did': None,\n",
       "   'bfont': '',\n",
       "   'bsize': 0},\n",
       "  {'name': 'Carte 2',\n",
       "   'ord': 1,\n",
       "   'qfmt': 'Le monopole {{Monopole}} localisé en {{Localisation}} est produit par?',\n",
       "   'afmt': '{{FrontSide}}\\n\\n<hr id=answer>\\n\\n{{Producteur}} ',\n",
       "   'bqfmt': '',\n",
       "   'bafmt': '',\n",
       "   'did': None,\n",
       "   'bfont': '',\n",
       "   'bsize': 0},\n",
       "  {'name': 'Carte 3',\n",
       "   'ord': 2,\n",
       "   'qfmt': 'Le monopole localisé en {{Localisation}} et produit par {{Producteur}} est nommé ?',\n",
       "   'afmt': '{{FrontSide}}\\n\\n<hr id=answer>\\n\\n{{Monopole}} ',\n",
       "   'bqfmt': '',\n",
       "   'bafmt': '',\n",
       "   'did': None,\n",
       "   'bfont': '',\n",
       "   'bsize': 0}],\n",
       " 'flds': [{'name': 'Monopole',\n",
       "   'ord': 0,\n",
       "   'sticky': False,\n",
       "   'rtl': False,\n",
       "   'font': 'Arial',\n",
       "   'size': 20,\n",
       "   'description': '',\n",
       "   'media': []},\n",
       "  {'name': 'Localisation',\n",
       "   'ord': 1,\n",
       "   'sticky': False,\n",
       "   'rtl': False,\n",
       "   'font': 'Arial',\n",
       "   'size': 20,\n",
       "   'description': '',\n",
       "   'media': []},\n",
       "  {'name': 'Producteur',\n",
       "   'ord': 2,\n",
       "   'sticky': False,\n",
       "   'rtl': False,\n",
       "   'font': 'Arial',\n",
       "   'size': 20,\n",
       "   'description': '',\n",
       "   'media': []}],\n",
       " 'css': '.card {\\n font-family: arial;\\n font-size: 20px;\\n text-align: center;\\n color: black;\\n background-color: white;\\n}\\n',\n",
       " 'latexPre': '\\\\documentclass[12pt]{article}\\n\\\\special{papersize=3in,5in}\\n\\\\usepackage[utf8]{inputenc}\\n\\\\usepackage{amssymb,amsmath}\\n\\\\pagestyle{empty}\\n\\\\setlength{\\\\parindent}{0in}\\n\\\\begin{document}\\n',\n",
       " 'latexPost': '\\\\end{document}',\n",
       " 'latexsvg': False,\n",
       " 'req': [[0, 'any', [0, 2]], [1, 'any', [0, 1]], [2, 'any', [1, 2]]],\n",
       " 'vers': [],\n",
       " 'tags': []}"
      ]
     },
     "execution_count": 72,
     "metadata": {},
     "output_type": "execute_result"
    }
   ],
   "source": [
    "col.models.get(1571155475675)"
   ]
  },
  {
   "cell_type": "code",
   "execution_count": null,
   "metadata": {},
   "outputs": [],
   "source": [
    "selection = notes.loc[notes[\"nmodel\"]=='Tour de France winners'].copy()\n",
    "selection.fields_as_columns(inplace=True)\n",
    "selection[\"nfld_Year\"] = selection[\"nfld_Winner\"].str.extract(r'(\\d{4})')\n",
    "selection[\"nfld_Winner\"] = selection[\"nfld_Winner\"].str.extract(r'{{c\\d::(\\D+)::who\\?}}')\n",
    "selection[[\"nfld_Year\",\"nfld_Winner\"]]"
   ]
  },
  {
   "cell_type": "code",
   "execution_count": null,
   "metadata": {},
   "outputs": [],
   "source": [
    "col.notes.update(selection.fields_as_list())\n",
    "col.write(modify=True)"
   ]
  },
  {
   "cell_type": "code",
   "execution_count": null,
   "metadata": {},
   "outputs": [],
   "source": []
  }
 ],
 "metadata": {
  "kernelspec": {
   "display_name": "Python 3.9.16 64-bit ('anki-collection-editing': conda)",
   "language": "python",
   "name": "python3"
  },
  "language_info": {
   "codemirror_mode": {
    "name": "ipython",
    "version": 3
   },
   "file_extension": ".py",
   "mimetype": "text/x-python",
   "name": "python",
   "nbconvert_exporter": "python",
   "pygments_lexer": "ipython3",
   "version": "3.9.16"
  },
  "orig_nbformat": 4,
  "vscode": {
   "interpreter": {
    "hash": "77b19daa5e4051e815d4e8544c647e993264a1a1663eaae78a2ec95fe80919f7"
   }
  }
 },
 "nbformat": 4,
 "nbformat_minor": 2
}
