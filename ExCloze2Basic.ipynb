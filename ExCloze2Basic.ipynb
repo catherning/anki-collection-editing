{
 "cells": [
  {
   "cell_type": "code",
   "execution_count": 1,
   "metadata": {},
   "outputs": [
    {
     "name": "stderr",
     "output_type": "stream",
     "text": [
      "\u001b[36mDEBUG: db_path_input: Database explicitly set to 'C:\\\\Users\\\\TEMP.PKAPRIME.000.001\\\\AppData\\\\Roaming\\\\Anki2\\\\test\\\\collection.anki2'.\u001b[0m\n"
     ]
    }
   ],
   "source": [
    "from anki_utils import COL_PATH\n",
    "\n",
    "from ankipandas import Collection, set_debug_log_level\n",
    "set_debug_log_level()\n",
    "\n",
    "col = Collection(COL_PATH,user=\"test\")"
   ]
  },
  {
   "cell_type": "code",
   "execution_count": 2,
   "metadata": {},
   "outputs": [
    {
     "name": "stderr",
     "output_type": "stream",
     "text": [
      "\u001b[36mDEBUG: Opening Db from C:\\Users\\TEMP.PKAPRIME.000.001\\AppData\\Roaming\\Anki2\\test\\collection.anki2\u001b[0m\n",
      "\u001b[36mDEBUG: Setting metadata attribute col to <ankipandas.collection.Collection object at 0x000001D247661970>\u001b[0m\n",
      "\u001b[36mDEBUG: Setting metadata attribute _anki_table to notes\u001b[0m\n",
      "\u001b[36mDEBUG: Setting metadata attribute fields_as_columns_prefix to nfld_\u001b[0m\n",
      "\u001b[36mDEBUG: Setting metadata attribute _fields_format to anki\u001b[0m\n",
      "\u001b[36mDEBUG: Setting metadata attribute _df_format to anki\u001b[0m\n",
      "\u001b[36mDEBUG: Opening Db from C:\\Users\\TEMP.PKAPRIME.000.001\\AppData\\Roaming\\Anki2\\test\\collection.anki2\u001b[0m\n"
     ]
    },
    {
     "data": {
      "text/html": [
       "<div>\n",
       "<style scoped>\n",
       "    .dataframe tbody tr th:only-of-type {\n",
       "        vertical-align: middle;\n",
       "    }\n",
       "\n",
       "    .dataframe tbody tr th {\n",
       "        vertical-align: top;\n",
       "    }\n",
       "\n",
       "    .dataframe thead th {\n",
       "        text-align: right;\n",
       "    }\n",
       "</style>\n",
       "<table border=\"1\" class=\"dataframe\">\n",
       "  <thead>\n",
       "    <tr style=\"text-align: right;\">\n",
       "      <th></th>\n",
       "      <th>nguid</th>\n",
       "      <th>nmod</th>\n",
       "      <th>nusn</th>\n",
       "      <th>ntags</th>\n",
       "      <th>nflds</th>\n",
       "      <th>nmodel</th>\n",
       "    </tr>\n",
       "    <tr>\n",
       "      <th>nid</th>\n",
       "      <th></th>\n",
       "      <th></th>\n",
       "      <th></th>\n",
       "      <th></th>\n",
       "      <th></th>\n",
       "      <th></th>\n",
       "    </tr>\n",
       "  </thead>\n",
       "  <tbody>\n",
       "    <tr>\n",
       "      <th>1421618132817</th>\n",
       "      <td>ox]!7*8?Af</td>\n",
       "      <td>1677531810</td>\n",
       "      <td>-1</td>\n",
       "      <td>[general_knowledge]</td>\n",
       "      <td>[Roger&amp;nbsp;Lapébie, 1937, &lt;div&gt;1903 Maurice G...</td>\n",
       "      <td>Tour de France Winners</td>\n",
       "    </tr>\n",
       "  </tbody>\n",
       "</table>\n",
       "</div>"
      ],
      "text/plain": [
       "                    nguid        nmod  nusn                ntags  \\\n",
       "nid                                                                \n",
       "1421618132817  ox]!7*8?Af  1677531810    -1  [general_knowledge]   \n",
       "\n",
       "                                                           nflds  \\\n",
       "nid                                                                \n",
       "1421618132817  [Roger&nbsp;Lapébie, 1937, <div>1903 Maurice G...   \n",
       "\n",
       "                               nmodel  \n",
       "nid                                    \n",
       "1421618132817  Tour de France Winners  "
      ]
     },
     "execution_count": 2,
     "metadata": {},
     "output_type": "execute_result"
    }
   ],
   "source": [
    "notes = col.notes\n",
    "notes"
   ]
  },
  {
   "cell_type": "code",
   "execution_count": 3,
   "metadata": {},
   "outputs": [
    {
     "name": "stderr",
     "output_type": "stream",
     "text": [
      "\u001b[36mDEBUG: Opening Db from C:\\Users\\TEMP.PKAPRIME.000.001\\AppData\\Roaming\\Anki2\\test\\collection.anki2\u001b[0m\n",
      "\u001b[36mDEBUG: Opening Db from C:\\Users\\TEMP.PKAPRIME.000.001\\AppData\\Roaming\\Anki2\\test\\collection.anki2\u001b[0m\n",
      "\u001b[36mDEBUG: Opening Db from C:\\Users\\TEMP.PKAPRIME.000.001\\AppData\\Roaming\\Anki2\\test\\collection.anki2\u001b[0m\n",
      "\u001b[36mDEBUG: Opening Db from C:\\Users\\TEMP.PKAPRIME.000.001\\AppData\\Roaming\\Anki2\\test\\collection.anki2\u001b[0m\n",
      "\u001b[36mDEBUG: Opening Db from C:\\Users\\TEMP.PKAPRIME.000.001\\AppData\\Roaming\\Anki2\\test\\collection.anki2\u001b[0m\n",
      "\u001b[36mDEBUG: Opening Db from C:\\Users\\TEMP.PKAPRIME.000.001\\AppData\\Roaming\\Anki2\\test\\collection.anki2\u001b[0m\n",
      "\u001b[36mDEBUG: Opening Db from C:\\Users\\TEMP.PKAPRIME.000.001\\AppData\\Roaming\\Anki2\\test\\collection.anki2\u001b[0m\n",
      "\u001b[36mDEBUG: Opening Db from C:\\Users\\TEMP.PKAPRIME.000.001\\AppData\\Roaming\\Anki2\\test\\collection.anki2\u001b[0m\n",
      "\u001b[36mDEBUG: Opening Db from C:\\Users\\TEMP.PKAPRIME.000.001\\AppData\\Roaming\\Anki2\\test\\collection.anki2\u001b[0m\n"
     ]
    },
    {
     "data": {
      "text/html": [
       "<div>\n",
       "<style scoped>\n",
       "    .dataframe tbody tr th:only-of-type {\n",
       "        vertical-align: middle;\n",
       "    }\n",
       "\n",
       "    .dataframe tbody tr th {\n",
       "        vertical-align: top;\n",
       "    }\n",
       "\n",
       "    .dataframe thead th {\n",
       "        text-align: right;\n",
       "    }\n",
       "</style>\n",
       "<table border=\"1\" class=\"dataframe\">\n",
       "  <thead>\n",
       "    <tr style=\"text-align: right;\">\n",
       "      <th></th>\n",
       "      <th>nguid</th>\n",
       "      <th>nmod</th>\n",
       "      <th>nusn</th>\n",
       "      <th>ntags</th>\n",
       "      <th>nmodel</th>\n",
       "      <th>nfld_Winner</th>\n",
       "      <th>nfld_Year</th>\n",
       "      <th>nfld_Extra</th>\n",
       "    </tr>\n",
       "    <tr>\n",
       "      <th>nid</th>\n",
       "      <th></th>\n",
       "      <th></th>\n",
       "      <th></th>\n",
       "      <th></th>\n",
       "      <th></th>\n",
       "      <th></th>\n",
       "      <th></th>\n",
       "      <th></th>\n",
       "    </tr>\n",
       "  </thead>\n",
       "  <tbody>\n",
       "    <tr>\n",
       "      <th>1421618132817</th>\n",
       "      <td>ox]!7*8?Af</td>\n",
       "      <td>1677531810</td>\n",
       "      <td>-1</td>\n",
       "      <td>[general_knowledge]</td>\n",
       "      <td>Tour de France Winners</td>\n",
       "      <td>Roger&amp;nbsp;Lapébie</td>\n",
       "      <td>1937</td>\n",
       "      <td>&lt;div&gt;1903 Maurice Garin&lt;/div&gt;\\n&lt;div&gt;1904 Henri...</td>\n",
       "    </tr>\n",
       "  </tbody>\n",
       "</table>\n",
       "</div>"
      ],
      "text/plain": [
       "                    nguid        nmod  nusn                ntags  \\\n",
       "nid                                                                \n",
       "1421618132817  ox]!7*8?Af  1677531810    -1  [general_knowledge]   \n",
       "\n",
       "                               nmodel         nfld_Winner nfld_Year  \\\n",
       "nid                                                                   \n",
       "1421618132817  Tour de France Winners  Roger&nbsp;Lapébie      1937   \n",
       "\n",
       "                                                      nfld_Extra  \n",
       "nid                                                               \n",
       "1421618132817  <div>1903 Maurice Garin</div>\\n<div>1904 Henri...  "
      ]
     },
     "execution_count": 3,
     "metadata": {},
     "output_type": "execute_result"
    }
   ],
   "source": [
    "selection = notes.loc[notes[\"nmodel\"]=='Tour de France Winners'].copy()\n",
    "selection.fields_as_columns(inplace=True)\n",
    "selection"
   ]
  },
  {
   "cell_type": "code",
   "execution_count": 6,
   "metadata": {},
   "outputs": [
    {
     "data": {
      "text/html": [
       "<div>\n",
       "<style scoped>\n",
       "    .dataframe tbody tr th:only-of-type {\n",
       "        vertical-align: middle;\n",
       "    }\n",
       "\n",
       "    .dataframe tbody tr th {\n",
       "        vertical-align: top;\n",
       "    }\n",
       "\n",
       "    .dataframe thead th {\n",
       "        text-align: right;\n",
       "    }\n",
       "</style>\n",
       "<table border=\"1\" class=\"dataframe\">\n",
       "  <thead>\n",
       "    <tr style=\"text-align: right;\">\n",
       "      <th></th>\n",
       "      <th>nfld_Year</th>\n",
       "      <th>nfld_Winner</th>\n",
       "    </tr>\n",
       "    <tr>\n",
       "      <th>nid</th>\n",
       "      <th></th>\n",
       "      <th></th>\n",
       "    </tr>\n",
       "  </thead>\n",
       "  <tbody>\n",
       "    <tr>\n",
       "      <th>1421618132817</th>\n",
       "      <td>Test</td>\n",
       "      <td>Testt</td>\n",
       "    </tr>\n",
       "  </tbody>\n",
       "</table>\n",
       "</div>"
      ],
      "text/plain": [
       "              nfld_Year nfld_Winner\n",
       "nid                                \n",
       "1421618132817      Test       Testt"
      ]
     },
     "execution_count": 6,
     "metadata": {},
     "output_type": "execute_result"
    }
   ],
   "source": [
    "selection[\"nfld_Year\"] = \"Test\"\n",
    "selection[\"nfld_Winner\"] = \"Testt\"\n",
    "selection[[\"nfld_Year\",\"nfld_Winner\"]]"
   ]
  },
  {
   "cell_type": "code",
   "execution_count": 7,
   "metadata": {},
   "outputs": [
    {
     "name": "stderr",
     "output_type": "stream",
     "text": [
      "\u001b[36mDEBUG: Opening Db from C:\\Users\\TEMP.PKAPRIME.000.001\\AppData\\Roaming\\Anki2\\test\\collection.anki2\u001b[0m\n",
      "\u001b[36mDEBUG: Opening Db from C:\\Users\\TEMP.PKAPRIME.000.001\\AppData\\Roaming\\Anki2\\test\\collection.anki2\u001b[0m\n",
      "\u001b[36mDEBUG: Opening Db from C:\\Users\\TEMP.PKAPRIME.000.001\\AppData\\Roaming\\Anki2\\test\\collection.anki2\u001b[0m\n",
      "\u001b[36mDEBUG: Opening Db from C:\\Users\\TEMP.PKAPRIME.000.001\\AppData\\Roaming\\Anki2\\test\\collection.anki2\u001b[0m\n",
      "\u001b[36mDEBUG: Opening Db from C:\\Users\\TEMP.PKAPRIME.000.001\\AppData\\Roaming\\Anki2\\test\\collection.anki2\u001b[0m\n",
      "\u001b[36mDEBUG: Will update table notes with mode update\u001b[0m\n",
      "\u001b[36mDEBUG: Opening Db from C:\\Users\\TEMP.PKAPRIME.000.001\\AppData\\Roaming\\Anki2\\test\\collection.anki2\u001b[0m\n",
      "\u001b[36mDEBUG: Opening Db from C:\\Users\\TEMP.PKAPRIME.000.001\\AppData\\Roaming\\Anki2\\test\\collection.anki2\u001b[0m\n",
      "\u001b[36mDEBUG: Write: Skipping cards, because it's None.\u001b[0m\n",
      "\u001b[36mDEBUG: Write: Skipping revs, because it's None.\u001b[0m\n",
      "\u001b[36mDEBUG: Now getting & updating info.\u001b[0m\n",
      "\u001b[36mDEBUG: Opening Db from C:\\Users\\TEMP.PKAPRIME.000.001\\AppData\\Roaming\\Anki2\\test\\collection.anki2\u001b[0m\n",
      "\u001b[36mDEBUG: Successfully prepared data for writing.\u001b[0m\n",
      "\u001b[32mINFO: Backup created at C:\\Users\\TEMP.PKAPRIME.000.001\\AppData\\Roaming\\Anki2\\test\\backups\\backup-ankipandas-2023-02-27-22.50.11.824228.anki2\u001b[0m\n",
      "\u001b[33mWARNING: Currently AnkiPandas might not be able to tell Anki to sync its database. You might have to manually tell Anki to sync everything to AnkiDroid.\n",
      "Furthermore, if you run into issues with tag searches not workinganymore, please first do Notes > Clear unused notes and then Tools > Check Database (from the main menu). This should get them to work (sorry about this issue).\u001b[0m\n",
      "\u001b[36mDEBUG: Now actually writing to database.\u001b[0m\n",
      "\u001b[36mDEBUG: Now setting table notes.\u001b[0m\n",
      "\u001b[36mDEBUG: Opening Db from C:\\Users\\TEMP.PKAPRIME.000.001\\AppData\\Roaming\\Anki2\\test\\collection.anki2\u001b[0m\n",
      "\u001b[36mDEBUG: Setting table notes successful.\u001b[0m\n",
      "\u001b[36mDEBUG: I will now drop all copies of the tables\u001b[0m\n",
      "\u001b[36mDEBUG: I will now reload the connection.\u001b[0m\n",
      "\u001b[32mINFO: In case you're running this from a Jupyter notebook, make sure to shutdown the kernel or delete all ankipandas objects before you open anki to take a look at the result (only one application can use the database at a time).\u001b[0m\n"
     ]
    }
   ],
   "source": [
    "col.notes.update(selection.fields_as_list())\n",
    "col.write(modify=True)"
   ]
  },
  {
   "cell_type": "code",
   "execution_count": null,
   "metadata": {},
   "outputs": [],
   "source": []
  }
 ],
 "metadata": {
  "kernelspec": {
   "display_name": "Python 3.9.16 64-bit ('anki-collection-editing': conda)",
   "language": "python",
   "name": "python3"
  },
  "language_info": {
   "codemirror_mode": {
    "name": "ipython",
    "version": 3
   },
   "file_extension": ".py",
   "mimetype": "text/x-python",
   "name": "python",
   "nbconvert_exporter": "python",
   "pygments_lexer": "ipython3",
   "version": "3.9.16"
  },
  "orig_nbformat": 4,
  "vscode": {
   "interpreter": {
    "hash": "77b19daa5e4051e815d4e8544c647e993264a1a1663eaae78a2ec95fe80919f7"
   }
  }
 },
 "nbformat": 4,
 "nbformat_minor": 2
}
